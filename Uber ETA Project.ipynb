{
 "cells": [
  {
   "cell_type": "raw",
   "id": "0c4749ed-7ff3-4d37-bdd6-992831677068",
   "metadata": {},
   "source": [
    "About Dataset\n",
    "\n",
    "Food delivery is a courier service in which a restaurant, store, or independent food-delivery company delivers food to a customer.\n",
    "\n",
    "An order is typically made through a restaurant, grocer's website, mobile app, or food ordering company. The delivered items can include entrees, sides, drinks, desserts, or grocery items and are typically delivered in boxes or bags. The delivery person will generally drive a car, but they may use bikes or motorized scooters in bigger cities where homes and restaurants are closer together.\n",
    "\n",
    "Prompt and accurate delivery time directly impacts customer satisfaction and overall experience.\n",
    "\n",
    "Project objective\n",
    "\n",
    "The project aims to develop an accurate real-time food delivery time prediction system by considering crucial factors such as distance, historical delivery data, and various influencing variables. By calculating the geographical separation between the food preparation point and delivery location, we establish a foundational parameter for estimating delivery duration. Historical data on delivery times for similar distances is analyzed to identify patterns and dependencies, allowing the creation of a predictive model.\n",
    "\n",
    "This predictive model leverages machine learning algorithms and statistical techniques to incorporate distance and factors like traffic conditions, time of day, day of the week, weather conditions, and delivery partner workload.\n",
    "\n"
   ]
  },
  {
   "cell_type": "code",
   "execution_count": 89,
   "id": "12830a9d-1651-473e-a674-738f2bb72a9b",
   "metadata": {},
   "outputs": [],
   "source": [
    "# Required libraries\n",
    "import numpy as np\n",
    "import pandas as pd\n",
    "from sklearn.impute import SimpleImputer\n",
    "import matplotlib.pyplot as plt\n",
    "import seaborn as sns\n",
    "import scipy.stats as stats\n",
    "import statistics\n",
    "import statsmodels.api as sm\n",
    "# mlxtend --no-deps\n",
    "\n",
    "# Scikit-Learn models, metrics, preprocessing\n",
    "from sklearn.model_selection import train_test_split,cross_val_score, GridSearchCV\n",
    "from sklearn.preprocessing import LabelEncoder,StandardScaler\n",
    "from sklearn.linear_model import LinearRegression\n",
    "from sklearn.tree import DecisionTreeRegressor\n",
    "from sklearn.ensemble import RandomForestRegressor\n",
    "from sklearn.ensemble import GradientBoostingRegressor\n",
    "from sklearn.svm import SVR\n",
    "import xgboost as xgb\n",
    "from sklearn.metrics import mean_squared_error, r2_score,mean_absolute_error\n",
    "\n",
    "# Importing plotly visualization library\n",
    "import plotly.express as px\n",
    "import plotly.figure_factory as ff\n",
    "\n",
    "#Filter and ignore warnings\n",
    "import warnings\n",
    "warnings.filterwarnings('ignore')"
   ]
  },
  {
   "cell_type": "code",
   "execution_count": 91,
   "id": "b75166f3-0cb3-4548-8b78-0bdbbfac8e77",
   "metadata": {},
   "outputs": [],
   "source": [
    "df = pd.read_csv(\"C:/Users/festu/OneDrive/Documents/Machine learning project/Uber data.csv\")"
   ]
  },
  {
   "cell_type": "code",
   "execution_count": 92,
   "id": "0563cac6-c80f-4ba1-88c4-646c53d2c12b",
   "metadata": {},
   "outputs": [
    {
     "data": {
      "text/html": [
       "<div>\n",
       "<style scoped>\n",
       "    .dataframe tbody tr th:only-of-type {\n",
       "        vertical-align: middle;\n",
       "    }\n",
       "\n",
       "    .dataframe tbody tr th {\n",
       "        vertical-align: top;\n",
       "    }\n",
       "\n",
       "    .dataframe thead th {\n",
       "        text-align: right;\n",
       "    }\n",
       "</style>\n",
       "<table border=\"1\" class=\"dataframe\">\n",
       "  <thead>\n",
       "    <tr style=\"text-align: right;\">\n",
       "      <th></th>\n",
       "      <th>ID</th>\n",
       "      <th>Delivery_person_ID</th>\n",
       "      <th>Delivery_person_Age</th>\n",
       "      <th>Delivery_person_Ratings</th>\n",
       "      <th>Restaurant_latitude</th>\n",
       "      <th>Restaurant_longitude</th>\n",
       "      <th>Delivery_location_latitude</th>\n",
       "      <th>Delivery_location_longitude</th>\n",
       "      <th>Order_Date</th>\n",
       "      <th>Time_Orderd</th>\n",
       "      <th>Time_Order_picked</th>\n",
       "      <th>Weatherconditions</th>\n",
       "      <th>Road_traffic_density</th>\n",
       "      <th>Vehicle_condition</th>\n",
       "      <th>Type_of_order</th>\n",
       "      <th>Type_of_vehicle</th>\n",
       "      <th>multiple_deliveries</th>\n",
       "      <th>Festival</th>\n",
       "      <th>City</th>\n",
       "      <th>Time_taken(min)</th>\n",
       "    </tr>\n",
       "  </thead>\n",
       "  <tbody>\n",
       "    <tr>\n",
       "      <th>0</th>\n",
       "      <td>0x4607</td>\n",
       "      <td>INDORES13DEL02</td>\n",
       "      <td>37</td>\n",
       "      <td>4.9</td>\n",
       "      <td>22.745049</td>\n",
       "      <td>75.892471</td>\n",
       "      <td>22.765049</td>\n",
       "      <td>75.912471</td>\n",
       "      <td>19-03-2022</td>\n",
       "      <td>11:30:00</td>\n",
       "      <td>11:45:00</td>\n",
       "      <td>conditions Sunny</td>\n",
       "      <td>High</td>\n",
       "      <td>2</td>\n",
       "      <td>Snack</td>\n",
       "      <td>motorcycle</td>\n",
       "      <td>0</td>\n",
       "      <td>No</td>\n",
       "      <td>Urban</td>\n",
       "      <td>(min) 24</td>\n",
       "    </tr>\n",
       "    <tr>\n",
       "      <th>1</th>\n",
       "      <td>0xb379</td>\n",
       "      <td>BANGRES18DEL02</td>\n",
       "      <td>34</td>\n",
       "      <td>4.5</td>\n",
       "      <td>12.913041</td>\n",
       "      <td>77.683237</td>\n",
       "      <td>13.043041</td>\n",
       "      <td>77.813237</td>\n",
       "      <td>25-03-2022</td>\n",
       "      <td>19:45:00</td>\n",
       "      <td>19:50:00</td>\n",
       "      <td>conditions Stormy</td>\n",
       "      <td>Jam</td>\n",
       "      <td>2</td>\n",
       "      <td>Snack</td>\n",
       "      <td>scooter</td>\n",
       "      <td>1</td>\n",
       "      <td>No</td>\n",
       "      <td>Metropolitian</td>\n",
       "      <td>(min) 33</td>\n",
       "    </tr>\n",
       "    <tr>\n",
       "      <th>2</th>\n",
       "      <td>0x5d6d</td>\n",
       "      <td>BANGRES19DEL01</td>\n",
       "      <td>23</td>\n",
       "      <td>4.4</td>\n",
       "      <td>12.914264</td>\n",
       "      <td>77.678400</td>\n",
       "      <td>12.924264</td>\n",
       "      <td>77.688400</td>\n",
       "      <td>19-03-2022</td>\n",
       "      <td>8:30:00</td>\n",
       "      <td>8:45:00</td>\n",
       "      <td>conditions Sandstorms</td>\n",
       "      <td>Low</td>\n",
       "      <td>0</td>\n",
       "      <td>Drinks</td>\n",
       "      <td>motorcycle</td>\n",
       "      <td>1</td>\n",
       "      <td>No</td>\n",
       "      <td>Urban</td>\n",
       "      <td>(min) 26</td>\n",
       "    </tr>\n",
       "  </tbody>\n",
       "</table>\n",
       "</div>"
      ],
      "text/plain": [
       "        ID Delivery_person_ID Delivery_person_Age Delivery_person_Ratings  \\\n",
       "0  0x4607     INDORES13DEL02                   37                     4.9   \n",
       "1  0xb379     BANGRES18DEL02                   34                     4.5   \n",
       "2  0x5d6d     BANGRES19DEL01                   23                     4.4   \n",
       "\n",
       "   Restaurant_latitude  Restaurant_longitude  Delivery_location_latitude  \\\n",
       "0            22.745049             75.892471                   22.765049   \n",
       "1            12.913041             77.683237                   13.043041   \n",
       "2            12.914264             77.678400                   12.924264   \n",
       "\n",
       "   Delivery_location_longitude  Order_Date Time_Orderd Time_Order_picked  \\\n",
       "0                    75.912471  19-03-2022    11:30:00          11:45:00   \n",
       "1                    77.813237  25-03-2022    19:45:00          19:50:00   \n",
       "2                    77.688400  19-03-2022     8:30:00           8:45:00   \n",
       "\n",
       "       Weatherconditions Road_traffic_density  Vehicle_condition  \\\n",
       "0       conditions Sunny                High                   2   \n",
       "1      conditions Stormy                 Jam                   2   \n",
       "2  conditions Sandstorms                 Low                   0   \n",
       "\n",
       "  Type_of_order Type_of_vehicle multiple_deliveries Festival            City  \\\n",
       "0        Snack      motorcycle                    0      No           Urban    \n",
       "1        Snack         scooter                    1      No   Metropolitian    \n",
       "2       Drinks      motorcycle                    1      No           Urban    \n",
       "\n",
       "  Time_taken(min)  \n",
       "0        (min) 24  \n",
       "1        (min) 33  \n",
       "2        (min) 26  "
      ]
     },
     "execution_count": 92,
     "metadata": {},
     "output_type": "execute_result"
    }
   ],
   "source": [
    "df.head(3)"
   ]
  },
  {
   "cell_type": "raw",
   "id": "149649fd-3473-40be-ae2b-51f4393fb89d",
   "metadata": {},
   "source": [
    "##Exploratory Data Analysis (EDA)"
   ]
  },
  {
   "cell_type": "code",
   "execution_count": 95,
   "id": "7ce6a19f-4703-48af-8dfc-23856897cae9",
   "metadata": {},
   "outputs": [
    {
     "data": {
      "text/plain": [
       "Index(['ID', 'Delivery_person_ID', 'Delivery_person_Age',\n",
       "       'Delivery_person_Ratings', 'Restaurant_latitude',\n",
       "       'Restaurant_longitude', 'Delivery_location_latitude',\n",
       "       'Delivery_location_longitude', 'Order_Date', 'Time_Orderd',\n",
       "       'Time_Order_picked', 'Weatherconditions', 'Road_traffic_density',\n",
       "       'Vehicle_condition', 'Type_of_order', 'Type_of_vehicle',\n",
       "       'multiple_deliveries', 'Festival', 'City', 'Time_taken(min)'],\n",
       "      dtype='object')"
      ]
     },
     "execution_count": 95,
     "metadata": {},
     "output_type": "execute_result"
    }
   ],
   "source": [
    "#Check the columns \n",
    "df.columns"
   ]
  },
  {
   "cell_type": "code",
   "execution_count": 97,
   "id": "9259c7c8-ee99-42a7-9495-726ae31d3c2e",
   "metadata": {},
   "outputs": [
    {
     "name": "stdout",
     "output_type": "stream",
     "text": [
      "The shape of the data is: (45593, 20)\n"
     ]
    }
   ],
   "source": [
    "print(\"The shape of the data is:\", df.shape)"
   ]
  },
  {
   "cell_type": "code",
   "execution_count": 99,
   "id": "f9394f29-7b36-4ad2-8a5c-57d2ff229ae9",
   "metadata": {},
   "outputs": [
    {
     "name": "stdout",
     "output_type": "stream",
     "text": [
      "<class 'pandas.core.frame.DataFrame'>\n",
      "RangeIndex: 45593 entries, 0 to 45592\n",
      "Data columns (total 20 columns):\n",
      " #   Column                       Non-Null Count  Dtype  \n",
      "---  ------                       --------------  -----  \n",
      " 0   ID                           45593 non-null  object \n",
      " 1   Delivery_person_ID           45593 non-null  object \n",
      " 2   Delivery_person_Age          45593 non-null  object \n",
      " 3   Delivery_person_Ratings      45593 non-null  object \n",
      " 4   Restaurant_latitude          45593 non-null  float64\n",
      " 5   Restaurant_longitude         45593 non-null  float64\n",
      " 6   Delivery_location_latitude   45593 non-null  float64\n",
      " 7   Delivery_location_longitude  45593 non-null  float64\n",
      " 8   Order_Date                   45593 non-null  object \n",
      " 9   Time_Orderd                  45593 non-null  object \n",
      " 10  Time_Order_picked            45593 non-null  object \n",
      " 11  Weatherconditions            45593 non-null  object \n",
      " 12  Road_traffic_density         45593 non-null  object \n",
      " 13  Vehicle_condition            45593 non-null  int64  \n",
      " 14  Type_of_order                45593 non-null  object \n",
      " 15  Type_of_vehicle              45593 non-null  object \n",
      " 16  multiple_deliveries          45593 non-null  object \n",
      " 17  Festival                     45593 non-null  object \n",
      " 18  City                         45593 non-null  object \n",
      " 19  Time_taken(min)              45593 non-null  object \n",
      "dtypes: float64(4), int64(1), object(15)\n",
      "memory usage: 7.0+ MB\n"
     ]
    }
   ],
   "source": [
    "#Check the information of the data \n",
    "df.info()"
   ]
  },
  {
   "cell_type": "code",
   "execution_count": 101,
   "id": "cba06d60-d98c-4ee1-b923-50f164dd5ed8",
   "metadata": {},
   "outputs": [
    {
     "data": {
      "text/html": [
       "<div>\n",
       "<style scoped>\n",
       "    .dataframe tbody tr th:only-of-type {\n",
       "        vertical-align: middle;\n",
       "    }\n",
       "\n",
       "    .dataframe tbody tr th {\n",
       "        vertical-align: top;\n",
       "    }\n",
       "\n",
       "    .dataframe thead th {\n",
       "        text-align: right;\n",
       "    }\n",
       "</style>\n",
       "<table border=\"1\" class=\"dataframe\">\n",
       "  <thead>\n",
       "    <tr style=\"text-align: right;\">\n",
       "      <th></th>\n",
       "      <th>count</th>\n",
       "      <th>mean</th>\n",
       "      <th>std</th>\n",
       "      <th>min</th>\n",
       "      <th>25%</th>\n",
       "      <th>50%</th>\n",
       "      <th>75%</th>\n",
       "      <th>max</th>\n",
       "    </tr>\n",
       "  </thead>\n",
       "  <tbody>\n",
       "    <tr>\n",
       "      <th>Restaurant_latitude</th>\n",
       "      <td>45593.0</td>\n",
       "      <td>17.017729</td>\n",
       "      <td>8.185109</td>\n",
       "      <td>-30.905562</td>\n",
       "      <td>12.933284</td>\n",
       "      <td>18.546947</td>\n",
       "      <td>22.728163</td>\n",
       "      <td>30.914057</td>\n",
       "    </tr>\n",
       "    <tr>\n",
       "      <th>Restaurant_longitude</th>\n",
       "      <td>45593.0</td>\n",
       "      <td>70.231332</td>\n",
       "      <td>22.883647</td>\n",
       "      <td>-88.366217</td>\n",
       "      <td>73.170000</td>\n",
       "      <td>75.898497</td>\n",
       "      <td>78.044095</td>\n",
       "      <td>88.433452</td>\n",
       "    </tr>\n",
       "    <tr>\n",
       "      <th>Delivery_location_latitude</th>\n",
       "      <td>45593.0</td>\n",
       "      <td>17.465186</td>\n",
       "      <td>7.335122</td>\n",
       "      <td>0.010000</td>\n",
       "      <td>12.988453</td>\n",
       "      <td>18.633934</td>\n",
       "      <td>22.785049</td>\n",
       "      <td>31.054057</td>\n",
       "    </tr>\n",
       "    <tr>\n",
       "      <th>Delivery_location_longitude</th>\n",
       "      <td>45593.0</td>\n",
       "      <td>70.845702</td>\n",
       "      <td>21.118812</td>\n",
       "      <td>0.010000</td>\n",
       "      <td>73.280000</td>\n",
       "      <td>76.002574</td>\n",
       "      <td>78.107044</td>\n",
       "      <td>88.563452</td>\n",
       "    </tr>\n",
       "    <tr>\n",
       "      <th>Vehicle_condition</th>\n",
       "      <td>45593.0</td>\n",
       "      <td>1.023359</td>\n",
       "      <td>0.839065</td>\n",
       "      <td>0.000000</td>\n",
       "      <td>0.000000</td>\n",
       "      <td>1.000000</td>\n",
       "      <td>2.000000</td>\n",
       "      <td>3.000000</td>\n",
       "    </tr>\n",
       "  </tbody>\n",
       "</table>\n",
       "</div>"
      ],
      "text/plain": [
       "                               count       mean        std        min  \\\n",
       "Restaurant_latitude          45593.0  17.017729   8.185109 -30.905562   \n",
       "Restaurant_longitude         45593.0  70.231332  22.883647 -88.366217   \n",
       "Delivery_location_latitude   45593.0  17.465186   7.335122   0.010000   \n",
       "Delivery_location_longitude  45593.0  70.845702  21.118812   0.010000   \n",
       "Vehicle_condition            45593.0   1.023359   0.839065   0.000000   \n",
       "\n",
       "                                   25%        50%        75%        max  \n",
       "Restaurant_latitude          12.933284  18.546947  22.728163  30.914057  \n",
       "Restaurant_longitude         73.170000  75.898497  78.044095  88.433452  \n",
       "Delivery_location_latitude   12.988453  18.633934  22.785049  31.054057  \n",
       "Delivery_location_longitude  73.280000  76.002574  78.107044  88.563452  \n",
       "Vehicle_condition             0.000000   1.000000   2.000000   3.000000  "
      ]
     },
     "execution_count": 101,
     "metadata": {},
     "output_type": "execute_result"
    }
   ],
   "source": [
    "#Descriptive statistics for numerical variables  \n",
    "df.describe().T"
   ]
  },
  {
   "cell_type": "code",
   "execution_count": 103,
   "id": "df35f1de-1136-4ae3-89c3-84e3c0a5b8b6",
   "metadata": {},
   "outputs": [
    {
     "data": {
      "text/html": [
       "<div>\n",
       "<style scoped>\n",
       "    .dataframe tbody tr th:only-of-type {\n",
       "        vertical-align: middle;\n",
       "    }\n",
       "\n",
       "    .dataframe tbody tr th {\n",
       "        vertical-align: top;\n",
       "    }\n",
       "\n",
       "    .dataframe thead th {\n",
       "        text-align: right;\n",
       "    }\n",
       "</style>\n",
       "<table border=\"1\" class=\"dataframe\">\n",
       "  <thead>\n",
       "    <tr style=\"text-align: right;\">\n",
       "      <th></th>\n",
       "      <th>count</th>\n",
       "      <th>unique</th>\n",
       "      <th>top</th>\n",
       "      <th>freq</th>\n",
       "    </tr>\n",
       "  </thead>\n",
       "  <tbody>\n",
       "    <tr>\n",
       "      <th>ID</th>\n",
       "      <td>45593</td>\n",
       "      <td>45593</td>\n",
       "      <td>0x4607</td>\n",
       "      <td>1</td>\n",
       "    </tr>\n",
       "    <tr>\n",
       "      <th>Delivery_person_ID</th>\n",
       "      <td>45593</td>\n",
       "      <td>1320</td>\n",
       "      <td>PUNERES01DEL01</td>\n",
       "      <td>67</td>\n",
       "    </tr>\n",
       "    <tr>\n",
       "      <th>Delivery_person_Age</th>\n",
       "      <td>45593</td>\n",
       "      <td>23</td>\n",
       "      <td>35</td>\n",
       "      <td>2262</td>\n",
       "    </tr>\n",
       "    <tr>\n",
       "      <th>Delivery_person_Ratings</th>\n",
       "      <td>45593</td>\n",
       "      <td>29</td>\n",
       "      <td>4.8</td>\n",
       "      <td>7148</td>\n",
       "    </tr>\n",
       "    <tr>\n",
       "      <th>Order_Date</th>\n",
       "      <td>45593</td>\n",
       "      <td>44</td>\n",
       "      <td>15-03-2022</td>\n",
       "      <td>1192</td>\n",
       "    </tr>\n",
       "    <tr>\n",
       "      <th>Time_Orderd</th>\n",
       "      <td>45593</td>\n",
       "      <td>177</td>\n",
       "      <td>NaN</td>\n",
       "      <td>1731</td>\n",
       "    </tr>\n",
       "    <tr>\n",
       "      <th>Time_Order_picked</th>\n",
       "      <td>45593</td>\n",
       "      <td>193</td>\n",
       "      <td>21:30:00</td>\n",
       "      <td>496</td>\n",
       "    </tr>\n",
       "    <tr>\n",
       "      <th>Weatherconditions</th>\n",
       "      <td>45593</td>\n",
       "      <td>7</td>\n",
       "      <td>conditions Fog</td>\n",
       "      <td>7654</td>\n",
       "    </tr>\n",
       "    <tr>\n",
       "      <th>Road_traffic_density</th>\n",
       "      <td>45593</td>\n",
       "      <td>5</td>\n",
       "      <td>Low</td>\n",
       "      <td>15477</td>\n",
       "    </tr>\n",
       "    <tr>\n",
       "      <th>Type_of_order</th>\n",
       "      <td>45593</td>\n",
       "      <td>4</td>\n",
       "      <td>Snack</td>\n",
       "      <td>11533</td>\n",
       "    </tr>\n",
       "    <tr>\n",
       "      <th>Type_of_vehicle</th>\n",
       "      <td>45593</td>\n",
       "      <td>4</td>\n",
       "      <td>motorcycle</td>\n",
       "      <td>26435</td>\n",
       "    </tr>\n",
       "    <tr>\n",
       "      <th>multiple_deliveries</th>\n",
       "      <td>45593</td>\n",
       "      <td>5</td>\n",
       "      <td>1</td>\n",
       "      <td>28159</td>\n",
       "    </tr>\n",
       "    <tr>\n",
       "      <th>Festival</th>\n",
       "      <td>45593</td>\n",
       "      <td>3</td>\n",
       "      <td>No</td>\n",
       "      <td>44469</td>\n",
       "    </tr>\n",
       "    <tr>\n",
       "      <th>City</th>\n",
       "      <td>45593</td>\n",
       "      <td>4</td>\n",
       "      <td>Metropolitian</td>\n",
       "      <td>34093</td>\n",
       "    </tr>\n",
       "    <tr>\n",
       "      <th>Time_taken(min)</th>\n",
       "      <td>45593</td>\n",
       "      <td>45</td>\n",
       "      <td>(min) 26</td>\n",
       "      <td>2123</td>\n",
       "    </tr>\n",
       "  </tbody>\n",
       "</table>\n",
       "</div>"
      ],
      "text/plain": [
       "                         count unique              top   freq\n",
       "ID                       45593  45593          0x4607       1\n",
       "Delivery_person_ID       45593   1320  PUNERES01DEL01      67\n",
       "Delivery_person_Age      45593     23               35   2262\n",
       "Delivery_person_Ratings  45593     29              4.8   7148\n",
       "Order_Date               45593     44       15-03-2022   1192\n",
       "Time_Orderd              45593    177             NaN    1731\n",
       "Time_Order_picked        45593    193         21:30:00    496\n",
       "Weatherconditions        45593      7   conditions Fog   7654\n",
       "Road_traffic_density     45593      5             Low   15477\n",
       "Type_of_order            45593      4           Snack   11533\n",
       "Type_of_vehicle          45593      4      motorcycle   26435\n",
       "multiple_deliveries      45593      5                1  28159\n",
       "Festival                 45593      3              No   44469\n",
       "City                     45593      4   Metropolitian   34093\n",
       "Time_taken(min)          45593     45         (min) 26   2123"
      ]
     },
     "execution_count": 103,
     "metadata": {},
     "output_type": "execute_result"
    }
   ],
   "source": [
    "#Descriptive statistics for categorical \n",
    "df.describe(exclude=np.number).T"
   ]
  },
  {
   "cell_type": "markdown",
   "id": "ca31e122-7c71-46b0-bfd5-9fd206eab078",
   "metadata": {},
   "source": [
    "#Data Cleaning "
   ]
  },
  {
   "cell_type": "code",
   "execution_count": 106,
   "id": "85e44ba3-b94c-4c1c-bbce-c4d36051c006",
   "metadata": {},
   "outputs": [
    {
     "name": "stdout",
     "output_type": "stream",
     "text": [
      "Index(['ID', 'Delivery_person_ID', 'Delivery_person_Age',\n",
      "       'Delivery_person_Ratings', 'Restaurant_latitude',\n",
      "       'Restaurant_longitude', 'Delivery_location_latitude',\n",
      "       'Delivery_location_longitude', 'Order_Date', 'Time_Orderd',\n",
      "       'Time_Order_picked', 'Weather_conditions', 'Road_traffic_density',\n",
      "       'Vehicle_condition', 'Type_of_order', 'Type_of_vehicle',\n",
      "       'multiple_deliveries', 'Festival', 'City', 'Time_taken(min)'],\n",
      "      dtype='object')\n"
     ]
    }
   ],
   "source": [
    "#Rename the following columns \n",
    "def rename_column(df):\n",
    "    df.rename(columns={\"Weatherconditions\" : \"Weather_conditions\"}, inplace=True)\n",
    "rename_column(df)\n",
    "print(df.columns)"
   ]
  },
  {
   "cell_type": "code",
   "execution_count": 108,
   "id": "4c94e013-8d7e-4c92-a13f-119f6e8577f6",
   "metadata": {},
   "outputs": [
    {
     "data": {
      "text/html": [
       "<div>\n",
       "<style scoped>\n",
       "    .dataframe tbody tr th:only-of-type {\n",
       "        vertical-align: middle;\n",
       "    }\n",
       "\n",
       "    .dataframe tbody tr th {\n",
       "        vertical-align: top;\n",
       "    }\n",
       "\n",
       "    .dataframe thead th {\n",
       "        text-align: right;\n",
       "    }\n",
       "</style>\n",
       "<table border=\"1\" class=\"dataframe\">\n",
       "  <thead>\n",
       "    <tr style=\"text-align: right;\">\n",
       "      <th></th>\n",
       "      <th>Time_taken(min)</th>\n",
       "      <th>Weather_conditions</th>\n",
       "      <th>City_code</th>\n",
       "    </tr>\n",
       "  </thead>\n",
       "  <tbody>\n",
       "    <tr>\n",
       "      <th>0</th>\n",
       "      <td>24</td>\n",
       "      <td>Sunny</td>\n",
       "      <td>INDO</td>\n",
       "    </tr>\n",
       "    <tr>\n",
       "      <th>1</th>\n",
       "      <td>33</td>\n",
       "      <td>Stormy</td>\n",
       "      <td>BANG</td>\n",
       "    </tr>\n",
       "    <tr>\n",
       "      <th>2</th>\n",
       "      <td>26</td>\n",
       "      <td>Sandstorms</td>\n",
       "      <td>BANG</td>\n",
       "    </tr>\n",
       "    <tr>\n",
       "      <th>3</th>\n",
       "      <td>21</td>\n",
       "      <td>Sunny</td>\n",
       "      <td>COIMB</td>\n",
       "    </tr>\n",
       "    <tr>\n",
       "      <th>4</th>\n",
       "      <td>30</td>\n",
       "      <td>Cloudy</td>\n",
       "      <td>CHEN</td>\n",
       "    </tr>\n",
       "  </tbody>\n",
       "</table>\n",
       "</div>"
      ],
      "text/plain": [
       "  Time_taken(min) Weather_conditions City_code\n",
       "0              24              Sunny      INDO\n",
       "1              33             Stormy      BANG\n",
       "2              26         Sandstorms      BANG\n",
       "3              21              Sunny     COIMB\n",
       "4              30             Cloudy      CHEN"
      ]
     },
     "execution_count": 108,
     "metadata": {},
     "output_type": "execute_result"
    }
   ],
   "source": [
    "#Extract relevant values from column\n",
    "\n",
    "def extract_column_value(df):\n",
    "    '''\n",
    "    Remove \"min\" string from target variable and get numerical target\n",
    "    '''\n",
    "    # Extract time and convert to int\n",
    "    df['Time_taken(min)'] = df['Time_taken(min)'].str.split().str[-1]\n",
    "\n",
    "\n",
    "    # Extract Weather conditions\n",
    "    df['Weather_conditions'] = df['Weather_conditions'].str.split().str[-1]\n",
    "\n",
    "    # Extract city code from Delivery person ID\n",
    "    df['City_code'] = df['Delivery_person_ID'].str.split(\"RES\", expand=True)[0]\n",
    "\n",
    "extract_column_value(df)\n",
    "df[['Time_taken(min)','Weather_conditions','City_code']].head()"
   ]
  },
  {
   "cell_type": "code",
   "execution_count": 110,
   "id": "8bd96265-7c9b-4db3-a771-77117bcce6dc",
   "metadata": {},
   "outputs": [
    {
     "name": "stdout",
     "output_type": "stream",
     "text": [
      "Weather_conditions : ['Sunny', 'Stormy', 'Sandstorms', 'Cloudy', 'Fog', 'Windy', 'NaN']\n",
      "Road_traffic_density : ['High ', 'Jam ', 'Low ', 'Medium ', 'NaN ']\n",
      "Vehicle_condition : [2, 0, 1, 3]\n",
      "Type_of_order : ['Snack ', 'Drinks ', 'Buffet ', 'Meal ']\n",
      "Type_of_vehicle : ['motorcycle ', 'scooter ', 'electric_scooter ', 'bicycle ']\n",
      "Festival : ['No ', 'Yes ', 'NaN ']\n",
      "City : ['Urban ', 'Metropolitian ', 'Semi-Urban ', 'NaN ']\n",
      "multiple_deliveries : ['0', '1', '3', 'NaN ', '2']\n"
     ]
    }
   ],
   "source": [
    "# Unique values of some categorical columns of df\n",
    "columns = ['Weather_conditions', 'Road_traffic_density',\n",
    "       'Vehicle_condition', 'Type_of_order', 'Type_of_vehicle',\n",
    "       'Festival', 'City', 'multiple_deliveries']\n",
    "\n",
    "for column in columns:\n",
    "    unique_values = df[column].unique().tolist()\n",
    "    print(column, \":\", unique_values)"
   ]
  },
  {
   "cell_type": "code",
   "execution_count": 112,
   "id": "f8ec2dd2-b5e3-438c-9591-695c6394b6fe",
   "metadata": {},
   "outputs": [
    {
     "name": "stdout",
     "output_type": "stream",
     "text": [
      "Before No. of columns:  21\n",
      "After No. of columns:  19\n",
      "\n",
      "There is no duplicate value present\n"
     ]
    }
   ],
   "source": [
    "# Drop Columns which won't be use for building model\n",
    "def drop_columns(df):\n",
    "    df.drop(['ID','Delivery_person_ID'],axis=1,inplace=True)\n",
    "\n",
    "print(\"Before No. of columns: \",df.shape[1])\n",
    "drop_columns(df)\n",
    "print(\"After No. of columns: \",df.shape[1])\n",
    "\n",
    "#Check for Duplicate Values\n",
    "if (len(df[df.duplicated()])>0):\n",
    "    print(\"\\nThere are Duplicate values present\")\n",
    "else:\n",
    "    print(\"\\nThere is no duplicate value present\")"
   ]
  },
  {
   "cell_type": "code",
   "execution_count": 114,
   "id": "4cadd214-3bc4-48e0-a71b-09b74fe90585",
   "metadata": {},
   "outputs": [],
   "source": [
    "\n",
    "def convert_nan(df):\n",
    "    df.replace('NaN', float(np.nan), regex=True,inplace=True)\n",
    "\n",
    "convert_nan(df)"
   ]
  },
  {
   "cell_type": "code",
   "execution_count": 116,
   "id": "a4760540-b7ba-4c66-9ad5-ba1333ee099b",
   "metadata": {},
   "outputs": [],
   "source": [
    "#Feature engineering "
   ]
  },
  {
   "cell_type": "code",
   "execution_count": 118,
   "id": "c18dddb9-7768-4c48-a3de-dbba240d3be7",
   "metadata": {},
   "outputs": [
    {
     "data": {
      "text/plain": [
       "Index(['Delivery_person_Age', 'Delivery_person_Ratings', 'Restaurant_latitude',\n",
       "       'Restaurant_longitude', 'Delivery_location_latitude',\n",
       "       'Delivery_location_longitude', 'Order_Date', 'Time_Orderd',\n",
       "       'Time_Order_picked', 'Weather_conditions', 'Road_traffic_density',\n",
       "       'Vehicle_condition', 'Type_of_order', 'Type_of_vehicle',\n",
       "       'multiple_deliveries', 'Festival', 'City', 'Time_taken(min)',\n",
       "       'City_code'],\n",
       "      dtype='object')"
      ]
     },
     "execution_count": 118,
     "metadata": {},
     "output_type": "execute_result"
    }
   ],
   "source": [
    "df.columns"
   ]
  },
  {
   "cell_type": "code",
   "execution_count": 120,
   "id": "4bedeb76-9bb0-4192-9500-b1d096b0d22a",
   "metadata": {},
   "outputs": [],
   "source": [
    "## Convert categorical variables into numerical values\n",
    "categorical_features = ['Weather_conditions', 'Road_traffic_density', 'Type_of_order', 'Type_of_vehicle', 'Festival', 'City']\n",
    "label_encoders = {}\n",
    "for feature in categorical_features:\n",
    "    label_encoders[feature] = LabelEncoder()\n",
    "    df[feature] = label_encoders[feature].fit_transform(df[feature])"
   ]
  },
  {
   "cell_type": "code",
   "execution_count": 122,
   "id": "e7ad5cd3-8db5-4ca2-8b05-062b9c9ca0b2",
   "metadata": {},
   "outputs": [],
   "source": [
    "## Convert datetime features\n",
    "df['Order_Date'] = pd.to_datetime(df['Order_Date'], format=\"mixed\")\n",
    "df['Time_Orderd'] = pd.to_datetime(df['Time_Orderd'], errors='coerce')\n",
    "df['Time_Order_picked'] = pd.to_datetime(df['Time_Order_picked'], errors='coerce')\n",
    "df['hour_ordered'] = df['Time_Orderd'].dt.hour.fillna(0)\n",
    "df['minute_ordered'] = df['Time_Orderd'].dt.minute.fillna(0)\n",
    "df['hour_picked'] = df['Time_Order_picked'].dt.hour.fillna(0)\n",
    "df['minute_picked'] = df['Time_Order_picked'].dt.minute.fillna(0)"
   ]
  },
  {
   "cell_type": "code",
   "execution_count": 124,
   "id": "2a008748-8702-4c5e-b1de-b4ff52c1e73f",
   "metadata": {},
   "outputs": [
    {
     "data": {
      "text/plain": [
       "Delivery_person_Ratings        1908\n",
       "Delivery_person_Age            1854\n",
       "Time_Orderd                    1731\n",
       "multiple_deliveries             993\n",
       "Type_of_vehicle                   0\n",
       "hour_picked                       0\n",
       "minute_ordered                    0\n",
       "hour_ordered                      0\n",
       "City_code                         0\n",
       "Time_taken(min)                   0\n",
       "City                              0\n",
       "Festival                          0\n",
       "Vehicle_condition                 0\n",
       "Type_of_order                     0\n",
       "Road_traffic_density              0\n",
       "Weather_conditions                0\n",
       "Time_Order_picked                 0\n",
       "Order_Date                        0\n",
       "Delivery_location_longitude       0\n",
       "Delivery_location_latitude        0\n",
       "Restaurant_longitude              0\n",
       "Restaurant_latitude               0\n",
       "minute_picked                     0\n",
       "dtype: int64"
      ]
     },
     "execution_count": 124,
     "metadata": {},
     "output_type": "execute_result"
    }
   ],
   "source": [
    "#Check the null in the columns \n",
    "df.isnull().sum().sort_values(ascending=False)"
   ]
  },
  {
   "cell_type": "code",
   "execution_count": 126,
   "id": "86730d05-b7ce-421d-81eb-c499c84bf81e",
   "metadata": {},
   "outputs": [
    {
     "name": "stdout",
     "output_type": "stream",
     "text": [
      "Delivery_person_Age            0\n",
      "Delivery_person_Ratings        0\n",
      "Restaurant_latitude            0\n",
      "Restaurant_longitude           0\n",
      "Delivery_location_latitude     0\n",
      "Delivery_location_longitude    0\n",
      "Order_Date                     0\n",
      "Time_Orderd                    0\n",
      "Time_Order_picked              0\n",
      "Weather_conditions             0\n",
      "Road_traffic_density           0\n",
      "Vehicle_condition              0\n",
      "Type_of_order                  0\n",
      "Type_of_vehicle                0\n",
      "multiple_deliveries            0\n",
      "Festival                       0\n",
      "City                           0\n",
      "Time_taken(min)                0\n",
      "City_code                      0\n",
      "hour_ordered                   0\n",
      "minute_ordered                 0\n",
      "hour_picked                    0\n",
      "minute_picked                  0\n",
      "dtype: int64\n"
     ]
    }
   ],
   "source": [
    "\n",
    "# Function to handle null values in the DataFrame\n",
    "def handle_null_values(df):\n",
    "    # Convert 'Delivery_person_Ratings' to numeric (if stored as strings)\n",
    "    df['Delivery_person_Ratings'] = pd.to_numeric(df['Delivery_person_Ratings'], errors='coerce')\n",
    "\n",
    "    # Fill missing values in 'Delivery_person_Age' and 'Weather_conditions' with a random choice from existing values\n",
    "    df['Delivery_person_Age'].fillna(np.random.choice(df['Delivery_person_Age'].dropna()), inplace=True)\n",
    "    df['Weather_conditions'].fillna(np.random.choice(df['Weather_conditions'].dropna()), inplace=True)\n",
    "\n",
    "    # Columns to impute using the most frequent value\n",
    "    mode_cols = [\"Road_traffic_density\", \"multiple_deliveries\", \"Festival\", \"City\"]\n",
    "    mode_imputer = SimpleImputer(strategy='most_frequent')\n",
    "\n",
    "    # Ensure correct reshaping for imputer\n",
    "    df[mode_cols] = mode_imputer.fit_transform(df[mode_cols])\n",
    "\n",
    "    # Impute 'Delivery_person_Ratings' using the median (after conversion to numeric)\n",
    "    df['Delivery_person_Ratings'].fillna(df['Delivery_person_Ratings'].median(), inplace=True)\n",
    "\n",
    "    # Fill missing 'Time_Orderd' values with corresponding 'Time_Order_picked' values\n",
    "    df['Time_Orderd'] = df['Time_Orderd'].fillna(df['Time_Order_picked'])\n",
    "\n",
    "# Example usage:\n",
    "# Assuming df is your DataFrame\n",
    "handle_null_values(df)\n",
    "\n",
    "# Check for remaining missing values\n",
    "print(df.isnull().sum())\n",
    "\n",
    "\n"
   ]
  },
  {
   "cell_type": "code",
   "execution_count": 128,
   "id": "f6eb9a19-2fea-49a8-bcf2-ec9b42884337",
   "metadata": {},
   "outputs": [],
   "source": [
    "df = df.drop(columns=['Order_Date', 'Time_Orderd', 'Time_Order_picked'])  # Dropping original datetime columns"
   ]
  },
  {
   "cell_type": "code",
   "execution_count": 130,
   "id": "d56c8086-5409-48f2-aa1e-2a035919f6e2",
   "metadata": {},
   "outputs": [],
   "source": [
    "# Define Features and Target\n",
    "X = df[['Delivery_person_Age', 'Delivery_person_Ratings', 'Restaurant_latitude',\n",
    "       'Restaurant_longitude', 'Delivery_location_latitude',\n",
    "       'Delivery_location_longitude', 'Weather_conditions', 'Road_traffic_density',\n",
    "       'Vehicle_condition', 'Type_of_order', 'Type_of_vehicle',\n",
    "       'multiple_deliveries', 'Festival', 'City', 'hour_ordered', 'minute_ordered',\n",
    "       'hour_picked', 'minute_picked']]\n",
    "y = df['Time_taken(min)']"
   ]
  },
  {
   "cell_type": "code",
   "execution_count": 132,
   "id": "29e46086-4957-49e1-9882-20770974182f",
   "metadata": {},
   "outputs": [],
   "source": [
    "# Split Data\n",
    "X_train, X_test, y_train, y_test = train_test_split(X, y, test_size=0.2, random_state=42)"
   ]
  },
  {
   "cell_type": "code",
   "execution_count": 134,
   "id": "3ee523eb-799b-4afd-9437-3520f8b20400",
   "metadata": {},
   "outputs": [],
   "source": [
    "# Import necessary libraries\n",
    "\n",
    "# Model Selection\n",
    "models = {\n",
    "    \"Linear Regression\": LinearRegression(),\n",
    "    \"Gradient Boosting\": GradientBoostingRegressor(n_estimators=100, random_state=42),\n",
    "    \"Support Vector Regressor\": SVR(),\n",
    "    'Decision Tree': DecisionTreeRegressor(),\n",
    "'Random Forest': RandomForestRegressor()\n",
    "   \n",
    "}\n"
   ]
  },
  {
   "cell_type": "code",
   "execution_count": 138,
   "id": "e424ff9c-ad0a-4ecc-8d6e-b805d309b7b5",
   "metadata": {},
   "outputs": [
    {
     "name": "stdout",
     "output_type": "stream",
     "text": [
      "Linear Regression - MAE: 5.73\n",
      "Gradient Boosting - MAE: 4.09\n",
      "Support Vector Regressor - MAE: 6.51\n",
      "Decision Tree - MAE: 4.84\n",
      "Random Forest - MAE: 3.72\n",
      "Best Model: RandomForestRegressor()\n"
     ]
    }
   ],
   "source": [
    "best_model = None\n",
    "best_mae = float(\"inf\")\n",
    "\n",
    "for name, model in models.items():\n",
    "    model.fit(X_train, y_train)\n",
    "    y_pred = model.predict(X_test)\n",
    "    mae = mean_absolute_error(y_test, y_pred)\n",
    "    print(f\"{name} - MAE: {mae:.2f}\")\n",
    "    if mae < best_mae:\n",
    "        best_mae = mae\n",
    "        best_model = model\n",
    "\n",
    "print(f\"Best Model: {best_model}\")\n"
   ]
  },
  {
   "cell_type": "code",
   "execution_count": 67,
   "id": "aff3c72f-91e4-41cc-a52a-16797ff7700c",
   "metadata": {},
   "outputs": [
    {
     "name": "stdout",
     "output_type": "stream",
     "text": [
      "Linear Regression\n"
     ]
    }
   ],
   "source": []
  },
  {
   "cell_type": "code",
   "execution_count": null,
   "id": "5f3031c0-b13c-4cf3-b3cc-c3da8d9273d3",
   "metadata": {},
   "outputs": [],
   "source": []
  }
 ],
 "metadata": {
  "kernelspec": {
   "display_name": "Python 3 (ipykernel)",
   "language": "python",
   "name": "python3"
  },
  "language_info": {
   "codemirror_mode": {
    "name": "ipython",
    "version": 3
   },
   "file_extension": ".py",
   "mimetype": "text/x-python",
   "name": "python",
   "nbconvert_exporter": "python",
   "pygments_lexer": "ipython3",
   "version": "3.12.4"
  }
 },
 "nbformat": 4,
 "nbformat_minor": 5
}
